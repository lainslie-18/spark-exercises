{
 "cells": [
  {
   "cell_type": "code",
   "execution_count": 1,
   "id": "fe7995ab",
   "metadata": {},
   "outputs": [],
   "source": [
    "from pyspark.sql import SparkSession\n",
    "from pyspark.sql.functions import *\n",
    "\n",
    "spark = SparkSession.builder.getOrCreate()"
   ]
  },
  {
   "cell_type": "markdown",
   "id": "6d85c781",
   "metadata": {},
   "source": [
    "These exercises use the `case.csv`, `dept.csv`, and `source.csv` files from the San Antonio 311 call dataset."
   ]
  },
  {
   "cell_type": "markdown",
   "id": "78f9b256",
   "metadata": {},
   "source": [
    "# Exercise 1\n",
    "\n",
    "Read the case, department, and source data into their own spark dataframes."
   ]
  },
  {
   "cell_type": "code",
   "execution_count": 2,
   "id": "4f05f0b1",
   "metadata": {},
   "outputs": [],
   "source": [
    "# read in data\n",
    "case = spark.read.csv('case.csv', sep=',', header=True, inferSchema=True)\n",
    "dept = spark.read.csv('dept.csv', sep=',', header=True, inferSchema=True)\n",
    "source = spark.read.csv('source.csv', sep=',', header=True, inferSchema=True)"
   ]
  },
  {
   "cell_type": "markdown",
   "id": "6cee5843",
   "metadata": {},
   "source": [
    "# Exercise 2\n",
    "\n",
    "Let's see how writing to the local disk works in spark:\n",
    "\n",
    "* Write the code necessary to store the source data in both `csv` and `json` format, store these as `sources_csv` and `sources_json`\n",
    "* Inspect your folder structure. What do you notice?"
   ]
  },
  {
   "cell_type": "code",
   "execution_count": 3,
   "id": "9d49e9bd",
   "metadata": {},
   "outputs": [],
   "source": [
    "# write source file to json and csv\n",
    "source.write.json('sources_json', mode='overwrite')\n",
    "source.write.csv('sources_csv', mode='overwrite')\n",
    "# files are stored within their own folders"
   ]
  },
  {
   "cell_type": "markdown",
   "id": "9a9cdfb7",
   "metadata": {},
   "source": [
    "# Exercise 3\n",
    "\n",
    "Inspect the data in your dataframes. Are the data types appropriate? Write the code necessary to cast the values to the appropriate types."
   ]
  },
  {
   "cell_type": "code",
   "execution_count": 4,
   "id": "2a3b60c7",
   "metadata": {},
   "outputs": [
    {
     "name": "stdout",
     "output_type": "stream",
     "text": [
      "-RECORD 0------------------------------------\n",
      " case_id              | 1014127332           \n",
      " case_opened_date     | 1/1/18 0:42          \n",
      " case_closed_date     | 1/1/18 12:29         \n",
      " SLA_due_date         | 9/26/20 0:42         \n",
      " case_late            | NO                   \n",
      " num_days_late        | -998.5087616000001   \n",
      " case_closed          | YES                  \n",
      " dept_division        | Field Operations     \n",
      " service_request_type | Stray Animal         \n",
      " SLA_days             | 999.0                \n",
      " case_status          | Closed               \n",
      " source_id            | svcCRMLS             \n",
      " request_address      | 2315  EL PASO ST,... \n",
      " council_district     | 5                    \n",
      "-RECORD 1------------------------------------\n",
      " case_id              | 1014127333           \n",
      " case_opened_date     | 1/1/18 0:46          \n",
      " case_closed_date     | 1/3/18 8:11          \n",
      " SLA_due_date         | 1/5/18 8:30          \n",
      " case_late            | NO                   \n",
      " num_days_late        | -2.0126041669999997  \n",
      " case_closed          | YES                  \n",
      " dept_division        | Storm Water          \n",
      " service_request_type | Removal Of Obstru... \n",
      " SLA_days             | 4.322222222          \n",
      " case_status          | Closed               \n",
      " source_id            | svcCRMSS             \n",
      " request_address      | 2215  GOLIAD RD, ... \n",
      " council_district     | 3                    \n",
      "only showing top 2 rows\n",
      "\n"
     ]
    }
   ],
   "source": [
    "# look at first two records for case\n",
    "case.show(2, vertical=True)"
   ]
  },
  {
   "cell_type": "code",
   "execution_count": 5,
   "id": "3b1db149",
   "metadata": {},
   "outputs": [
    {
     "data": {
      "text/plain": [
       "[('case_id', 'int'),\n",
       " ('case_opened_date', 'string'),\n",
       " ('case_closed_date', 'string'),\n",
       " ('SLA_due_date', 'string'),\n",
       " ('case_late', 'string'),\n",
       " ('num_days_late', 'double'),\n",
       " ('case_closed', 'string'),\n",
       " ('dept_division', 'string'),\n",
       " ('service_request_type', 'string'),\n",
       " ('SLA_days', 'double'),\n",
       " ('case_status', 'string'),\n",
       " ('source_id', 'string'),\n",
       " ('request_address', 'string'),\n",
       " ('council_district', 'int')]"
      ]
     },
     "execution_count": 5,
     "metadata": {},
     "output_type": "execute_result"
    }
   ],
   "source": [
    "# check data types\n",
    "case.dtypes"
   ]
  },
  {
   "cell_type": "markdown",
   "id": "af839fa5",
   "metadata": {},
   "source": [
    "* case_opened_date, case_closed_date, SLA_due_date will be converted to date format, from string to allow for time calculations\n",
    "* case_late, case_closed will be converted to boolean values rather than 'Yes' or 'No' for ease of working with the data\n",
    "* council_district will be converted from int to string since it represents a category"
   ]
  },
  {
   "cell_type": "code",
   "execution_count": 6,
   "id": "b4284ff6",
   "metadata": {},
   "outputs": [],
   "source": [
    "# use withColumn to make these changes\n",
    "case = case.withColumn('case_opened_date', to_timestamp('case_opened_date', 'M/d/yy H:mm'))\\\n",
    ".withColumn('case_closed_date', to_timestamp('case_closed_date', 'M/d/yy H:mm'))\\\n",
    ".withColumn('case_due_date', to_timestamp('SLA_due_date', 'M/d/yy H:mm'))\\\n",
    ".withColumn('case_late', expr('case_late == \"YES\"'))\\\n",
    ".withColumn('case_closed', expr('case_closed == \"YES\"'))\\\n",
    ".withColumn('council_district', col('council_district').cast('string'))"
   ]
  },
  {
   "cell_type": "code",
   "execution_count": 7,
   "id": "4944db89",
   "metadata": {},
   "outputs": [
    {
     "data": {
      "text/plain": [
       "[('case_id', 'int'),\n",
       " ('case_opened_date', 'timestamp'),\n",
       " ('case_closed_date', 'timestamp'),\n",
       " ('SLA_due_date', 'string'),\n",
       " ('case_late', 'boolean'),\n",
       " ('num_days_late', 'double'),\n",
       " ('case_closed', 'boolean'),\n",
       " ('dept_division', 'string'),\n",
       " ('service_request_type', 'string'),\n",
       " ('SLA_days', 'double'),\n",
       " ('case_status', 'string'),\n",
       " ('source_id', 'string'),\n",
       " ('request_address', 'string'),\n",
       " ('council_district', 'string'),\n",
       " ('case_due_date', 'timestamp')]"
      ]
     },
     "execution_count": 7,
     "metadata": {},
     "output_type": "execute_result"
    }
   ],
   "source": [
    "# check data types to confirm changes were made\n",
    "case.dtypes"
   ]
  },
  {
   "cell_type": "markdown",
   "id": "7828d23d",
   "metadata": {},
   "source": [
    "# Part II\n",
    "\n",
    "# Exercise 1\n",
    "\n",
    "How old is the latest (in terms of days past SLA) currently open issue? How long has the oldest (in terms of days since opened) currently opened issue been open?"
   ]
  },
  {
   "cell_type": "code",
   "execution_count": 45,
   "id": "08eaa61e",
   "metadata": {},
   "outputs": [
    {
     "name": "stdout",
     "output_type": "stream",
     "text": [
      "+----------+--------------------+-------------------+-----------------+\n",
      "|   case_id|service_request_type|   case_opened_date|days_since_opened|\n",
      "+----------+--------------------+-------------------+-----------------+\n",
      "|1014758594|Overgrown Yard/Trash|2018-08-08 01:13:00|             1287|\n",
      "|1014758601|Front Or Side Yar...|2018-08-08 01:50:00|             1287|\n",
      "|1014758596|           No Pickup|2018-08-08 01:50:00|             1287|\n",
      "|1014758597|Minimum Housing-T...|2018-08-08 01:50:00|             1287|\n",
      "|1014758598|Junk Vehicle On P...|2018-08-08 01:50:00|             1287|\n",
      "+----------+--------------------+-------------------+-----------------+\n",
      "only showing top 5 rows\n",
      "\n"
     ]
    }
   ],
   "source": [
    "# use select to choose the latest cases submitted that are still open. There are quite a few that were opened on the same day and are still open\n",
    "case.select(col('case_id'), col('service_request_type'), col('case_opened_date'),\n",
    "            (datediff(current_timestamp(), 'case_opened_date').alias('days_since_opened')))\\\n",
    ".where(col('case_closed') == False)\\\n",
    ".sort(col('days_since_opened')).show(5)"
   ]
  },
  {
   "cell_type": "code",
   "execution_count": 73,
   "id": "6f65de5e",
   "metadata": {},
   "outputs": [
    {
     "name": "stdout",
     "output_type": "stream",
     "text": [
      "+----------+--------------------+-------------------+-----------------+\n",
      "|   case_id|service_request_type|   case_opened_date|days_since_opened|\n",
      "+----------+--------------------+-------------------+-----------------+\n",
      "|1013225651|   No Address Posted|2017-01-01 13:57:00|             1871|\n",
      "|1013225646|   No Address Posted|2017-01-01 13:48:00|             1871|\n",
      "|1013226813|   No Address Posted|2017-01-02 11:26:00|             1870|\n",
      "|1013229328|        Bandit Signs|2017-01-03 10:01:00|             1869|\n",
      "|1013232331|Street Light Exis...|2017-01-04 10:16:00|             1868|\n",
      "+----------+--------------------+-------------------+-----------------+\n",
      "only showing top 5 rows\n",
      "\n"
     ]
    }
   ],
   "source": [
    "# use select to choose the oldest cases that are still open\n",
    "case.select(col('case_id'), col('service_request_type'), col('case_opened_date'),\n",
    "            (datediff(current_timestamp(), 'case_opened_date').alias('days_since_opened')))\\\n",
    ".where(col('case_closed') == False)\\\n",
    ".sort(col('days_since_opened').desc()).show(5)"
   ]
  },
  {
   "cell_type": "code",
   "execution_count": 74,
   "id": "d3d9b08a",
   "metadata": {},
   "outputs": [
    {
     "name": "stdout",
     "output_type": "stream",
     "text": [
      "+---------------------+---------------------+\n",
      "|min(case_opened_date)|max(case_opened_date)|\n",
      "+---------------------+---------------------+\n",
      "|  2017-01-01 13:48:00|  2018-08-08 10:38:00|\n",
      "+---------------------+---------------------+\n",
      "\n"
     ]
    }
   ],
   "source": [
    "# check that these are accurate by getting max and min dates for cases that are still open\n",
    "case.where(col('case_closed') == False)\\\n",
    ".select(min(col('case_opened_date')), max(col('case_opened_date'))).show()"
   ]
  },
  {
   "cell_type": "markdown",
   "id": "57ddb613",
   "metadata": {},
   "source": [
    "# Exercise 2\n",
    "\n",
    "How many Stray Animal cases are there?"
   ]
  },
  {
   "cell_type": "code",
   "execution_count": 47,
   "id": "70a1c55f",
   "metadata": {},
   "outputs": [
    {
     "data": {
      "text/plain": [
       "26760"
      ]
     },
     "execution_count": 47,
     "metadata": {},
     "output_type": "execute_result"
    }
   ],
   "source": [
    "# filter cases where service request type was stray animal and get the count\n",
    "case.filter(case.service_request_type == 'Stray Animal').count()"
   ]
  },
  {
   "cell_type": "markdown",
   "id": "4fa7da9d",
   "metadata": {},
   "source": [
    "# Exercise 3\n",
    "\n",
    "How many service requests that are assigned to the Field Operations department (`dept_division`) are not classified as \"Officer Standby\" request type (`service_request_type`)?"
   ]
  },
  {
   "cell_type": "code",
   "execution_count": 50,
   "id": "ceff06d0",
   "metadata": {},
   "outputs": [
    {
     "data": {
      "text/plain": [
       "113902"
      ]
     },
     "execution_count": 50,
     "metadata": {},
     "output_type": "execute_result"
    }
   ],
   "source": [
    "# filter by dept division and service request type and get count\n",
    "case.filter(case.dept_division == 'Field Operations')\\\n",
    ".filter(case.service_request_type != 'Officer Standby').count()"
   ]
  },
  {
   "cell_type": "markdown",
   "id": "b74beb9e",
   "metadata": {},
   "source": [
    "# Exercise 4\n",
    "\n",
    "Convert the `council_district` column to a string column."
   ]
  },
  {
   "cell_type": "code",
   "execution_count": null,
   "id": "1a6e52fd",
   "metadata": {},
   "outputs": [],
   "source": [
    "# already completed in Part I Exercise 3"
   ]
  },
  {
   "cell_type": "markdown",
   "id": "68320b27",
   "metadata": {},
   "source": [
    "# Exercise 5\n",
    "\n",
    "Extract the year from the `case_closed_date` column."
   ]
  },
  {
   "cell_type": "code",
   "execution_count": 53,
   "id": "5decf468",
   "metadata": {},
   "outputs": [
    {
     "name": "stdout",
     "output_type": "stream",
     "text": [
      "+----------------------+\n",
      "|year(case_closed_date)|\n",
      "+----------------------+\n",
      "|                  2018|\n",
      "|                  2018|\n",
      "|                  2018|\n",
      "|                  2018|\n",
      "|                  2018|\n",
      "|                  2018|\n",
      "|                  2018|\n",
      "|                  2018|\n",
      "|                  2018|\n",
      "|                  2018|\n",
      "|                  2018|\n",
      "|                  2018|\n",
      "|                  2018|\n",
      "|                  2018|\n",
      "|                  2018|\n",
      "|                  2018|\n",
      "|                  2018|\n",
      "|                  2018|\n",
      "|                  2018|\n",
      "|                  2018|\n",
      "+----------------------+\n",
      "only showing top 20 rows\n",
      "\n"
     ]
    }
   ],
   "source": [
    "# select year from timestamp data\n",
    "case.select(year('case_closed_date')).show()"
   ]
  },
  {
   "cell_type": "markdown",
   "id": "fd92b342",
   "metadata": {},
   "source": [
    "# Exercise 6\n",
    "\n",
    "Convert `num_days_late` from days to hours in new columns `num_hours_late`."
   ]
  },
  {
   "cell_type": "code",
   "execution_count": 60,
   "id": "b35cc47c",
   "metadata": {},
   "outputs": [
    {
     "name": "stdout",
     "output_type": "stream",
     "text": [
      "-RECORD 0------------------------------------\n",
      " case_id              | 1014127332           \n",
      " case_opened_date     | 2018-01-01 00:42:00  \n",
      " case_closed_date     | 2018-01-01 12:29:00  \n",
      " SLA_due_date         | 9/26/20 0:42         \n",
      " case_late            | false                \n",
      " num_days_late        | -998.5087616000001   \n",
      " case_closed          | true                 \n",
      " dept_division        | Field Operations     \n",
      " service_request_type | Stray Animal         \n",
      " SLA_days             | 999.0                \n",
      " case_status          | Closed               \n",
      " source_id            | svcCRMLS             \n",
      " request_address      | 2315  EL PASO ST,... \n",
      " council_district     | 5                    \n",
      " case_due_date        | 2020-09-26 00:42:00  \n",
      " num_hours_late       | -23964.2102784       \n",
      "-RECORD 1------------------------------------\n",
      " case_id              | 1014127333           \n",
      " case_opened_date     | 2018-01-01 00:46:00  \n",
      " case_closed_date     | 2018-01-03 08:11:00  \n",
      " SLA_due_date         | 1/5/18 8:30          \n",
      " case_late            | false                \n",
      " num_days_late        | -2.0126041669999997  \n",
      " case_closed          | true                 \n",
      " dept_division        | Storm Water          \n",
      " service_request_type | Removal Of Obstru... \n",
      " SLA_days             | 4.322222222          \n",
      " case_status          | Closed               \n",
      " source_id            | svcCRMSS             \n",
      " request_address      | 2215  GOLIAD RD, ... \n",
      " council_district     | 3                    \n",
      " case_due_date        | 2018-01-05 08:30:00  \n",
      " num_hours_late       | -48.302500007999996  \n",
      "only showing top 2 rows\n",
      "\n"
     ]
    }
   ],
   "source": [
    "# create a new column that calculates hours late by multiplying days times 24\n",
    "case.withColumn('num_hours_late', col('num_days_late') * 24).show(2, vertical=True)"
   ]
  },
  {
   "cell_type": "markdown",
   "id": "25c52d39",
   "metadata": {},
   "source": [
    "# Exercise 7\n",
    "\n",
    "Join the case data with the source and department data."
   ]
  },
  {
   "cell_type": "code",
   "execution_count": 61,
   "id": "a35d34fe",
   "metadata": {},
   "outputs": [
    {
     "name": "stdout",
     "output_type": "stream",
     "text": [
      "-RECORD 0---------------------------\n",
      " source_id       | 100137           \n",
      " source_username | Merlene Blodgett \n",
      "-RECORD 1---------------------------\n",
      " source_id       | 103582           \n",
      " source_username | Carmen Cura      \n",
      "only showing top 2 rows\n",
      "\n"
     ]
    }
   ],
   "source": [
    "# view source data\n",
    "source.show(2, vertical=True)"
   ]
  },
  {
   "cell_type": "code",
   "execution_count": 62,
   "id": "f412887b",
   "metadata": {},
   "outputs": [
    {
     "name": "stdout",
     "output_type": "stream",
     "text": [
      "-RECORD 0--------------------------------------\n",
      " dept_division          | 311 Call Center      \n",
      " dept_name              | Customer Service     \n",
      " standardized_dept_name | Customer Service     \n",
      " dept_subject_to_SLA    | YES                  \n",
      "-RECORD 1--------------------------------------\n",
      " dept_division          | Brush                \n",
      " dept_name              | Solid Waste Manag... \n",
      " standardized_dept_name | Solid Waste          \n",
      " dept_subject_to_SLA    | YES                  \n",
      "only showing top 2 rows\n",
      "\n"
     ]
    }
   ],
   "source": [
    "# view dept data\n",
    "dept.show(2, vertical=True)"
   ]
  },
  {
   "cell_type": "code",
   "execution_count": 64,
   "id": "b047b648",
   "metadata": {},
   "outputs": [
    {
     "name": "stdout",
     "output_type": "stream",
     "text": [
      "-RECORD 0--------------------------------------\n",
      " source_id              | svcCRMLS             \n",
      " dept_division          | Field Operations     \n",
      " case_id                | 1014127332           \n",
      " case_opened_date       | 2018-01-01 00:42:00  \n",
      " case_closed_date       | 2018-01-01 12:29:00  \n",
      " SLA_due_date           | 9/26/20 0:42         \n",
      " case_late              | false                \n",
      " num_days_late          | -998.5087616000001   \n",
      " case_closed            | true                 \n",
      " service_request_type   | Stray Animal         \n",
      " SLA_days               | 999.0                \n",
      " case_status            | Closed               \n",
      " request_address        | 2315  EL PASO ST,... \n",
      " council_district       | 5                    \n",
      " case_due_date          | 2020-09-26 00:42:00  \n",
      " dept_name              | Animal Care Services \n",
      " standardized_dept_name | Animal Care Services \n",
      " dept_subject_to_SLA    | YES                  \n",
      " source_username        | svcCRMLS             \n",
      "-RECORD 1--------------------------------------\n",
      " source_id              | svcCRMSS             \n",
      " dept_division          | Storm Water          \n",
      " case_id                | 1014127333           \n",
      " case_opened_date       | 2018-01-01 00:46:00  \n",
      " case_closed_date       | 2018-01-03 08:11:00  \n",
      " SLA_due_date           | 1/5/18 8:30          \n",
      " case_late              | false                \n",
      " num_days_late          | -2.0126041669999997  \n",
      " case_closed            | true                 \n",
      " service_request_type   | Removal Of Obstru... \n",
      " SLA_days               | 4.322222222          \n",
      " case_status            | Closed               \n",
      " request_address        | 2215  GOLIAD RD, ... \n",
      " council_district       | 3                    \n",
      " case_due_date          | 2018-01-05 08:30:00  \n",
      " dept_name              | Trans & Cap Impro... \n",
      " standardized_dept_name | Trans & Cap Impro... \n",
      " dept_subject_to_SLA    | YES                  \n",
      " source_username        | svcCRMSS             \n",
      "only showing top 2 rows\n",
      "\n"
     ]
    }
   ],
   "source": [
    "# join all three tables together\n",
    "df = case.join(dept, 'dept_division', 'left').join(source, 'source_id', 'left')\n",
    "df.show(2, vertical=True)"
   ]
  },
  {
   "cell_type": "markdown",
   "id": "8c390d9e",
   "metadata": {},
   "source": [
    "# Exercise 8\n",
    "\n",
    "Are there any cases that do not have a request source?"
   ]
  },
  {
   "cell_type": "code",
   "execution_count": 66,
   "id": "96c0d2fc",
   "metadata": {},
   "outputs": [
    {
     "name": "stdout",
     "output_type": "stream",
     "text": [
      "(0 rows)\n",
      "\n"
     ]
    }
   ],
   "source": [
    "# filter source_id to see if there are any null values\n",
    "df.filter(col('source_id').isNull()).show(vertical=True)"
   ]
  },
  {
   "cell_type": "markdown",
   "id": "7cf782dc",
   "metadata": {},
   "source": [
    "# Exercise 9\n",
    "\n",
    "What are the top 10 service request types in terms of number of requests?"
   ]
  },
  {
   "cell_type": "code",
   "execution_count": 75,
   "id": "a3ef54af",
   "metadata": {},
   "outputs": [
    {
     "name": "stdout",
     "output_type": "stream",
     "text": [
      "+--------------------+-----+\n",
      "|service_request_type|count|\n",
      "+--------------------+-----+\n",
      "|           No Pickup|89210|\n",
      "|Overgrown Yard/Trash|66403|\n",
      "|        Bandit Signs|32968|\n",
      "|        Damaged Cart|31163|\n",
      "|Front Or Side Yar...|28920|\n",
      "|        Stray Animal|27361|\n",
      "|Aggressive Animal...|25492|\n",
      "|Cart Exchange Req...|22608|\n",
      "|Junk Vehicle On P...|21649|\n",
      "|     Pot Hole Repair|20827|\n",
      "+--------------------+-----+\n",
      "only showing top 10 rows\n",
      "\n"
     ]
    }
   ],
   "source": [
    "# group by service request type getting the counts for each and sorting to get the top 10\n",
    "df.groupby(col('service_request_type')).count()\\\n",
    ".sort(col('count').desc()).show(10)"
   ]
  },
  {
   "cell_type": "markdown",
   "id": "69741847",
   "metadata": {},
   "source": [
    "# Exercise 10\n",
    "\n",
    "What are the top 10 service request types in terms of average days late?"
   ]
  },
  {
   "cell_type": "code",
   "execution_count": 76,
   "id": "672b5760",
   "metadata": {},
   "outputs": [
    {
     "name": "stdout",
     "output_type": "stream",
     "text": [
      "+--------------------+------------------+\n",
      "|service_request_type|         days_late|\n",
      "+--------------------+------------------+\n",
      "|  Zoning: Junk Yards|175.95636210420943|\n",
      "|Labeling for Used...|162.43032902285717|\n",
      "|Record Keeping of...|153.99724039428568|\n",
      "|Signage Requied f...|151.63868055333333|\n",
      "|Storage of Used M...|142.11255641500003|\n",
      "|Zoning: Recycle Yard|135.92851612479797|\n",
      "|Donation Containe...|131.75610506358706|\n",
      "|License Requied U...|128.79828704142858|\n",
      "|Traffic Signal Gr...|101.79846062200002|\n",
      "|           Complaint|  72.8705023031169|\n",
      "+--------------------+------------------+\n",
      "only showing top 10 rows\n",
      "\n"
     ]
    }
   ],
   "source": [
    "# group by service request type getting the counts for each and sorting to get the top 10\n",
    "df.groupby(col('service_request_type'))\\\n",
    ".agg(mean('num_days_late').alias('days_late'))\\\n",
    ".sort(col('days_late').desc()).show(10)"
   ]
  },
  {
   "cell_type": "markdown",
   "id": "592f34d8",
   "metadata": {},
   "source": [
    "# Exercise 11\n",
    "\n",
    "Does number of days late depend on department?"
   ]
  },
  {
   "cell_type": "code",
   "execution_count": 93,
   "id": "490034fd",
   "metadata": {},
   "outputs": [
    {
     "name": "stdout",
     "output_type": "stream",
     "text": [
      "+--------------------+---------+\n",
      "|           dept_name|days_late|\n",
      "+--------------------+---------+\n",
      "|                null|    211.0|\n",
      "|    Customer Service|     88.0|\n",
      "|Development Services|     67.0|\n",
      "|Code Enforcement ...|     48.0|\n",
      "|Animal Care Services|     23.0|\n",
      "|Parks and Recreation|     22.0|\n",
      "|Trans & Cap Impro...|     11.0|\n",
      "|Solid Waste Manag...|      7.0|\n",
      "|        Metro Health|      6.0|\n",
      "+--------------------+---------+\n",
      "\n"
     ]
    }
   ],
   "source": [
    "# filter by cases that were late, group by dept_name and get average days late by dept, sort with values descending\n",
    "df.filter('case_late').groupby('dept_name')\\\n",
    ".agg(round(mean('num_days_late')).alias('days_late'))\\\n",
    ".sort(desc('days_late')).show()"
   ]
  },
  {
   "cell_type": "markdown",
   "id": "0ffb111a",
   "metadata": {},
   "source": [
    "# Exercise 12\n",
    "\n",
    "How do number of days late depend on department and request type?"
   ]
  },
  {
   "cell_type": "code",
   "execution_count": 88,
   "id": "56a887b5",
   "metadata": {},
   "outputs": [
    {
     "name": "stdout",
     "output_type": "stream",
     "text": [
      "+-------------------------+--------------------------------------------+---------+\n",
      "|dept_name                |service_request_type                        |days_late|\n",
      "+-------------------------+--------------------------------------------+---------+\n",
      "|null                     |Zoning: Recycle Yard                        |211.0    |\n",
      "|Code Enforcement Services|Zoning: Junk Yards                          |200.0    |\n",
      "|Code Enforcement Services|Structure/Housing Maintenance               |190.0    |\n",
      "|Code Enforcement Services|Donation Container Enforcement              |171.0    |\n",
      "|Code Enforcement Services|Storage of Used Mattress                    |164.0    |\n",
      "|Code Enforcement Services|Labeling for Used Mattress                  |162.0    |\n",
      "|Code Enforcement Services|Record Keeping of Used Mattresses           |154.0    |\n",
      "|Code Enforcement Services|Signage Requied for Sale of Used Mattr      |152.0    |\n",
      "|Trans & Cap Improvements |Traffic Signal Graffiti                     |138.0    |\n",
      "|Code Enforcement Services|License Requied Used Mattress Sales         |129.0    |\n",
      "|Code Enforcement Services|Curbstoning                                 |119.0    |\n",
      "|Code Enforcement Services|Vendors                                     |118.0    |\n",
      "|Code Enforcement Services|CPS Energy Wood Poles                       |115.0    |\n",
      "|Code Enforcement Services|Graffiti: Private Property (Corridors)      |114.0    |\n",
      "|Code Enforcement Services|Used Mattress Inspection                    |108.0    |\n",
      "|Code Enforcement Services|DSDB Ordered/Hold Harmless/Regular: Main    |95.0     |\n",
      "|Code Enforcement Services|DSDB Ordered/Hold Harmless/Regular-ALL      |91.0     |\n",
      "|Code Enforcement Services|DSDB Ordered/Hold Harmless/Regular: ASEC    |89.0     |\n",
      "|Customer Service         |Complaint                                   |88.0     |\n",
      "|Code Enforcement Services|Zoning: Setbacks                            |87.0     |\n",
      "|Code Enforcement Services|Dart Preliminary Inspection                 |85.0     |\n",
      "|Code Enforcement Services|Vacant Lot: Over 12\"\"                       |82.0     |\n",
      "|Code Enforcement Services|Permits Building                            |81.0     |\n",
      "|Development Services     |Street Light New Development                |81.0     |\n",
      "|Code Enforcement Services|No Address Posted                           |79.0     |\n",
      "|Code Enforcement Services|Low Hanging Limbs on Streets/Sidewalk       |78.0     |\n",
      "|Code Enforcement Services|Certificates of Occupancy                   |78.0     |\n",
      "|Customer Service         |Compliment                                  |78.0     |\n",
      "|Trans & Cap Improvements |Status: On-Going CIMS Projects              |77.0     |\n",
      "|Parks and Recreation     |Amenity Park Improvement                    |77.0     |\n",
      "|Code Enforcement Services|Wasting Water (Leaks)                       |76.0     |\n",
      "|Parks and Recreation     |Major Park Improvement Install              |76.0     |\n",
      "|Code Enforcement Services|Dumpsters: Maintenance/Sanitation           |73.0     |\n",
      "|Code Enforcement Services|\"Vacant Lot-State (12\"\")\"                   |72.0     |\n",
      "|Code Enforcement Services|Bandit Signs                                |71.0     |\n",
      "|Code Enforcement Services|Zoning: District Requirement                |71.0     |\n",
      "|Animal Care Services     |Animal Permits Request                      |70.0     |\n",
      "|Code Enforcement Services|Used/Scrap Tire Facility Periodic Inspection|70.0     |\n",
      "|Animal Care Services     |Public Nuisance(Own Animal)                 |70.0     |\n",
      "|Code Enforcement Services|Improper Storage of Tires/At Facility       |69.0     |\n",
      "+-------------------------+--------------------------------------------+---------+\n",
      "only showing top 40 rows\n",
      "\n"
     ]
    }
   ],
   "source": [
    "# filter by cases that were late, group by dept_name and service request type, get average days late by dept, sort with values descending\n",
    "df.filter('case_late').groupby('dept_name', 'service_request_type')\\\n",
    ".agg(round(mean('num_days_late')).alias('days_late'))\\\n",
    ".sort(desc('days_late')).show(40, truncate=False)"
   ]
  }
 ],
 "metadata": {
  "kernelspec": {
   "display_name": "Python 3",
   "language": "python",
   "name": "python3"
  },
  "language_info": {
   "codemirror_mode": {
    "name": "ipython",
    "version": 3
   },
   "file_extension": ".py",
   "mimetype": "text/x-python",
   "name": "python",
   "nbconvert_exporter": "python",
   "pygments_lexer": "ipython3",
   "version": "3.8.8"
  }
 },
 "nbformat": 4,
 "nbformat_minor": 5
}
